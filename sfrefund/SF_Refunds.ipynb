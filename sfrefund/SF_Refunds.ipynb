{
 "cells": [
  {
   "cell_type": "markdown",
   "id": "7e45495a",
   "metadata": {},
   "source": [
    "### Importing the Libraries"
   ]
  },
  {
   "cell_type": "code",
   "execution_count": 29,
   "id": "542b6c53",
   "metadata": {},
   "outputs": [],
   "source": [
    "import pandas as pd\n",
    "import numpy as np"
   ]
  },
  {
   "cell_type": "markdown",
   "id": "c249d613",
   "metadata": {},
   "source": [
    "### Read File names for Download\n",
    "\n",
    "- First row is taken as the column names."
   ]
  },
  {
   "cell_type": "code",
   "execution_count": 30,
   "id": "498c3c80",
   "metadata": {},
   "outputs": [],
   "source": [
    "_file_list = pd.read_csv('Download_file_names.csv')"
   ]
  },
  {
   "cell_type": "markdown",
   "id": "df9c6e2b",
   "metadata": {},
   "source": [
    "### Read the blacklist"
   ]
  },
  {
   "cell_type": "code",
   "execution_count": 31,
   "id": "06b8eda1",
   "metadata": {},
   "outputs": [],
   "source": [
    "_category = 'Blacklist'\n",
    "\n",
    "_blacklist_filenames = _file_list.loc[_file_list['Category']==_category,['File Name','Remarks']]\n",
    "_blacklist_filenames.reset_index(drop=True,inplace=True)\n",
    "\n",
    "_refund_blacklist_dict = {}\n",
    "for ind,i in enumerate(_blacklist_filenames['File Name']):\n",
    "    _keyname = _blacklist_filenames.loc[ind,'Remarks']\n",
    "    _table = pd.read_excel(i,skiprows=1,usecols=[0])\n",
    "    _table['Blacklist Remarks'] = _keyname\n",
    "    _refund_blacklist_dict[_keyname] = _table\n",
    "\n",
    "_blacklist = pd.concat(_refund_blacklist_dict,axis=0).reset_index(drop=True)"
   ]
  },
  {
   "cell_type": "markdown",
   "id": "812b93c4",
   "metadata": {},
   "source": [
    "### Read the Refund List"
   ]
  },
  {
   "cell_type": "code",
   "execution_count": 32,
   "id": "aed4ea50",
   "metadata": {},
   "outputs": [
    {
     "data": {
      "text/plain": [
       "2    Blacklist1.xlsx\n",
       "3    Blacklist2.xlsx\n",
       "Name: File Name, dtype: object"
      ]
     },
     "execution_count": 32,
     "metadata": {},
     "output_type": "execute_result"
    }
   ],
   "source": [
    " _file_list.loc[_file_list['Category']==_category,'File Name']"
   ]
  },
  {
   "cell_type": "code",
   "execution_count": 33,
   "id": "3301b648",
   "metadata": {},
   "outputs": [],
   "source": [
    "_category = 'Refund List'\n",
    "\n",
    "_refund_list_filename = _file_list.loc[_file_list['Category']==_category,'File Name'].values[0]\n",
    "_refund_list = pd.read_excel(_refund_list_filename,skiprows=1)"
   ]
  },
  {
   "cell_type": "code",
   "execution_count": 34,
   "id": "c81d661b",
   "metadata": {},
   "outputs": [],
   "source": [
    "_refund_list = _refund_list.merge(_blacklist,on='ID',how='left')\n",
    "\n",
    "_refund_list.sort_values(by=['Amount'],ascending=False,inplace=True)\n",
    "\n",
    "#_refund_list.to_csv('Output_Refund_Batch_List_Remarks.csv',index=False)"
   ]
  },
  {
   "cell_type": "markdown",
   "id": "093823ce",
   "metadata": {},
   "source": [
    "### Fee Report"
   ]
  },
  {
   "cell_type": "code",
   "execution_count": 35,
   "id": "70d75653",
   "metadata": {},
   "outputs": [],
   "source": [
    "_category = 'Fee Report'\n",
    "\n",
    "_fee_report_filename = _file_list.loc[_file_list['Category']==_category,'File Name'].values[0]\n",
    "_fee_report = pd.read_excel(_fee_report_filename,skiprows=1)\n",
    "\n",
    "_columns = ['ID',\n",
    "            'PreValue','Tuition Fee','Non MOE STF','SSG Subsidies/TF Discount',\n",
    "            'IS16 & CPE1 GST','MMFs','MMFs Discount','Hostel Fee',\n",
    "            'Scholarship/Bursary','CPF/PSEA/MENDAKI','FA Loan','Payments  Y STUDENT',\n",
    "            'Refund','ACCOUNT BAL'\n",
    "           ]\n",
    "\n",
    "_fee_report = _fee_report[_columns]\n",
    "_fee_report['Check Acct Bal'] = _fee_report[['PreValue','Tuition Fee','Non MOE STF','SSG Subsidies/TF Discount',\n",
    "            'IS16 & CPE1 GST','MMFs','MMFs Discount','Hostel Fee',\n",
    "            'Scholarship/Bursary','CPF/PSEA/MENDAKI','FA Loan','Payments  Y STUDENT',\n",
    "            'Refund']].sum(axis=1)\n",
    "_fee_report['Difference'] = _fee_report['Check Acct Bal'] -_fee_report['ACCOUNT BAL']\n",
    "\n",
    "_fee_report.loc[_fee_report['Difference']>=0.01,'Fee Report Remarks'] = 'Account Balance does not tally. Account Balance supposed to be more.'\n",
    "_fee_report.loc[_fee_report['Difference']<=-0.01,'Fee Report Remarks'] = 'Account Balance does not tally. Account Balance supposed to be lesser.'\n",
    "\n",
    "_fee_report_error = _fee_report[_fee_report['Fee Report Remarks'].notnull()].reset_index(drop=True)"
   ]
  },
  {
   "cell_type": "code",
   "execution_count": 36,
   "id": "9db45c7e",
   "metadata": {},
   "outputs": [],
   "source": [
    "#_refund_list = pd.read_csv('Output_Refund_Batch_List_Remarks.csv')\n",
    "\n",
    "_refund_list = _refund_list.merge(_fee_report_error[['ID','Fee Report Remarks']],on='ID',how='left')\n",
    "\n",
    "_refund_list.sort_values(by=['Amount'],ascending=False,inplace=True)\n",
    "\n",
    "#print(_refund_list.head())\n",
    "\n",
    "_refund_list_dict = {}\n",
    "_refund_list_dict['Full Refund List'] = _refund_list\n",
    "_refund_list_dict['Refund List with Remarks'] = _refund_list[~np.logical_and(_refund_list['Blacklist Remarks'].isna(),\n",
    "                                                                                 _refund_list['Fee Report Remarks'].isna())]\n",
    "\n",
    "with pd.ExcelWriter('Output_Refund List Summary.xlsx') as writer:\n",
    "    for key in _refund_list_dict:\n",
    "        df = pd.DataFrame(_refund_list_dict[key])\n",
    "        df.to_excel(writer,sheet_name=key,index=False)"
   ]
  }
 ],
 "metadata": {
  "kernelspec": {
   "display_name": "Python 3 (ipykernel)",
   "language": "python",
   "name": "python3"
  },
  "language_info": {
   "codemirror_mode": {
    "name": "ipython",
    "version": 3
   },
   "file_extension": ".py",
   "mimetype": "text/x-python",
   "name": "python",
   "nbconvert_exporter": "python",
   "pygments_lexer": "ipython3",
   "version": "3.9.7"
  }
 },
 "nbformat": 4,
 "nbformat_minor": 5
}
